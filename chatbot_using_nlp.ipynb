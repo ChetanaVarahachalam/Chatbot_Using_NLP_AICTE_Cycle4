{
 "cells": [
  {
   "cell_type": "code",
   "execution_count": 1,
   "metadata": {},
   "outputs": [
    {
     "name": "stdout",
     "output_type": "stream",
     "text": [
      "Requirement already satisfied: nltk in c:\\users\\cheta\\anaconda3\\lib\\site-packages (3.8.1)\n",
      "Requirement already satisfied: scikit-learn in c:\\users\\cheta\\anaconda3\\lib\\site-packages (1.3.0)\n",
      "Collecting streamlit\n",
      "  Obtaining dependency information for streamlit from https://files.pythonhosted.org/packages/e4/08/c962e38f4450dafb98af49f8988a736dd67ae9cc26a5704c43269f506bc8/streamlit-1.42.2-py2.py3-none-any.whl.metadata\n",
      "  Downloading streamlit-1.42.2-py2.py3-none-any.whl.metadata (8.9 kB)\n",
      "Requirement already satisfied: click in c:\\users\\cheta\\anaconda3\\lib\\site-packages (from nltk) (8.0.4)\n",
      "Requirement already satisfied: joblib in c:\\users\\cheta\\anaconda3\\lib\\site-packages (from nltk) (1.2.0)\n",
      "Requirement already satisfied: regex>=2021.8.3 in c:\\users\\cheta\\anaconda3\\lib\\site-packages (from nltk) (2022.7.9)\n",
      "Requirement already satisfied: tqdm in c:\\users\\cheta\\anaconda3\\lib\\site-packages (from nltk) (4.65.0)\n",
      "Requirement already satisfied: numpy>=1.17.3 in c:\\users\\cheta\\anaconda3\\lib\\site-packages (from scikit-learn) (1.24.3)\n",
      "Requirement already satisfied: scipy>=1.5.0 in c:\\users\\cheta\\anaconda3\\lib\\site-packages (from scikit-learn) (1.11.1)\n",
      "Requirement already satisfied: threadpoolctl>=2.0.0 in c:\\users\\cheta\\anaconda3\\lib\\site-packages (from scikit-learn) (2.2.0)\n",
      "Collecting altair<6,>=4.0 (from streamlit)\n",
      "  Obtaining dependency information for altair<6,>=4.0 from https://files.pythonhosted.org/packages/aa/f3/0b6ced594e51cc95d8c1fc1640d3623770d01e4969d29c0bd09945fafefa/altair-5.5.0-py3-none-any.whl.metadata\n",
      "  Downloading altair-5.5.0-py3-none-any.whl.metadata (11 kB)\n",
      "Collecting blinker<2,>=1.0.0 (from streamlit)\n",
      "  Obtaining dependency information for blinker<2,>=1.0.0 from https://files.pythonhosted.org/packages/10/cb/f2ad4230dc2eb1a74edf38f1a38b9b52277f75bef262d8908e60d957e13c/blinker-1.9.0-py3-none-any.whl.metadata\n",
      "  Downloading blinker-1.9.0-py3-none-any.whl.metadata (1.6 kB)\n",
      "Collecting cachetools<6,>=4.0 (from streamlit)\n",
      "  Obtaining dependency information for cachetools<6,>=4.0 from https://files.pythonhosted.org/packages/72/76/20fa66124dbe6be5cafeb312ece67de6b61dd91a0247d1ea13db4ebb33c2/cachetools-5.5.2-py3-none-any.whl.metadata\n",
      "  Downloading cachetools-5.5.2-py3-none-any.whl.metadata (5.4 kB)\n",
      "Requirement already satisfied: packaging<25,>=20 in c:\\users\\cheta\\anaconda3\\lib\\site-packages (from streamlit) (23.1)\n",
      "Requirement already satisfied: pandas<3,>=1.4.0 in c:\\users\\cheta\\anaconda3\\lib\\site-packages (from streamlit) (2.0.3)\n",
      "Requirement already satisfied: pillow<12,>=7.1.0 in c:\\users\\cheta\\anaconda3\\lib\\site-packages (from streamlit) (9.4.0)\n",
      "Collecting protobuf<6,>=3.20 (from streamlit)\n",
      "  Obtaining dependency information for protobuf<6,>=3.20 from https://files.pythonhosted.org/packages/61/fa/aae8e10512b83de633f2646506a6d835b151edf4b30d18d73afd01447253/protobuf-5.29.3-cp310-abi3-win_amd64.whl.metadata\n",
      "  Downloading protobuf-5.29.3-cp310-abi3-win_amd64.whl.metadata (592 bytes)\n",
      "Requirement already satisfied: pyarrow>=7.0 in c:\\users\\cheta\\anaconda3\\lib\\site-packages (from streamlit) (11.0.0)\n",
      "Requirement already satisfied: requests<3,>=2.27 in c:\\users\\cheta\\anaconda3\\lib\\site-packages (from streamlit) (2.31.0)\n",
      "Collecting rich<14,>=10.14.0 (from streamlit)\n",
      "  Obtaining dependency information for rich<14,>=10.14.0 from https://files.pythonhosted.org/packages/19/71/39c7c0d87f8d4e6c020a393182060eaefeeae6c01dab6a84ec346f2567df/rich-13.9.4-py3-none-any.whl.metadata\n",
      "  Downloading rich-13.9.4-py3-none-any.whl.metadata (18 kB)\n",
      "Requirement already satisfied: tenacity<10,>=8.1.0 in c:\\users\\cheta\\anaconda3\\lib\\site-packages (from streamlit) (8.2.2)\n",
      "Requirement already satisfied: toml<2,>=0.10.1 in c:\\users\\cheta\\anaconda3\\lib\\site-packages (from streamlit) (0.10.2)\n",
      "Requirement already satisfied: typing-extensions<5,>=4.4.0 in c:\\users\\cheta\\anaconda3\\lib\\site-packages (from streamlit) (4.7.1)\n",
      "Requirement already satisfied: watchdog<7,>=2.1.5 in c:\\users\\cheta\\anaconda3\\lib\\site-packages (from streamlit) (2.1.6)\n",
      "Collecting gitpython!=3.1.19,<4,>=3.0.7 (from streamlit)\n",
      "  Obtaining dependency information for gitpython!=3.1.19,<4,>=3.0.7 from https://files.pythonhosted.org/packages/1d/9a/4114a9057db2f1462d5c8f8390ab7383925fe1ac012eaa42402ad65c2963/GitPython-3.1.44-py3-none-any.whl.metadata\n",
      "  Downloading GitPython-3.1.44-py3-none-any.whl.metadata (13 kB)\n",
      "Collecting pydeck<1,>=0.8.0b4 (from streamlit)\n",
      "  Obtaining dependency information for pydeck<1,>=0.8.0b4 from https://files.pythonhosted.org/packages/ab/4c/b888e6cf58bd9db9c93f40d1c6be8283ff49d88919231afe93a6bcf61626/pydeck-0.9.1-py2.py3-none-any.whl.metadata\n",
      "  Downloading pydeck-0.9.1-py2.py3-none-any.whl.metadata (4.1 kB)\n",
      "Requirement already satisfied: tornado<7,>=6.0.3 in c:\\users\\cheta\\anaconda3\\lib\\site-packages (from streamlit) (6.3.2)\n",
      "Requirement already satisfied: jinja2 in c:\\users\\cheta\\anaconda3\\lib\\site-packages (from altair<6,>=4.0->streamlit) (3.1.2)\n",
      "Requirement already satisfied: jsonschema>=3.0 in c:\\users\\cheta\\anaconda3\\lib\\site-packages (from altair<6,>=4.0->streamlit) (4.17.3)\n",
      "Collecting narwhals>=1.14.2 (from altair<6,>=4.0->streamlit)\n",
      "  Obtaining dependency information for narwhals>=1.14.2 from https://files.pythonhosted.org/packages/73/aa/eedf2ade0c16a60541ca7acd48665c62dc0d11e1e910467b6c7e6b1eda34/narwhals-1.28.0-py3-none-any.whl.metadata\n",
      "  Downloading narwhals-1.28.0-py3-none-any.whl.metadata (10 kB)\n",
      "Collecting typing-extensions<5,>=4.4.0 (from streamlit)\n",
      "  Obtaining dependency information for typing-extensions<5,>=4.4.0 from https://files.pythonhosted.org/packages/26/9f/ad63fc0248c5379346306f8668cda6e2e2e9c95e01216d2b8ffd9ff037d0/typing_extensions-4.12.2-py3-none-any.whl.metadata\n",
      "  Downloading typing_extensions-4.12.2-py3-none-any.whl.metadata (3.0 kB)\n",
      "Requirement already satisfied: colorama in c:\\users\\cheta\\anaconda3\\lib\\site-packages (from click->nltk) (0.4.6)\n",
      "Collecting gitdb<5,>=4.0.1 (from gitpython!=3.1.19,<4,>=3.0.7->streamlit)\n",
      "  Obtaining dependency information for gitdb<5,>=4.0.1 from https://files.pythonhosted.org/packages/a0/61/5c78b91c3143ed5c14207f463aecfc8f9dbb5092fb2869baf37c273b2705/gitdb-4.0.12-py3-none-any.whl.metadata\n",
      "  Downloading gitdb-4.0.12-py3-none-any.whl.metadata (1.2 kB)\n",
      "Requirement already satisfied: python-dateutil>=2.8.2 in c:\\users\\cheta\\anaconda3\\lib\\site-packages (from pandas<3,>=1.4.0->streamlit) (2.8.2)\n",
      "Requirement already satisfied: pytz>=2020.1 in c:\\users\\cheta\\anaconda3\\lib\\site-packages (from pandas<3,>=1.4.0->streamlit) (2023.3.post1)\n",
      "Requirement already satisfied: tzdata>=2022.1 in c:\\users\\cheta\\anaconda3\\lib\\site-packages (from pandas<3,>=1.4.0->streamlit) (2023.3)\n",
      "Requirement already satisfied: charset-normalizer<4,>=2 in c:\\users\\cheta\\anaconda3\\lib\\site-packages (from requests<3,>=2.27->streamlit) (2.0.4)\n",
      "Requirement already satisfied: idna<4,>=2.5 in c:\\users\\cheta\\anaconda3\\lib\\site-packages (from requests<3,>=2.27->streamlit) (3.4)\n",
      "Requirement already satisfied: urllib3<3,>=1.21.1 in c:\\users\\cheta\\anaconda3\\lib\\site-packages (from requests<3,>=2.27->streamlit) (1.26.16)\n",
      "Requirement already satisfied: certifi>=2017.4.17 in c:\\users\\cheta\\anaconda3\\lib\\site-packages (from requests<3,>=2.27->streamlit) (2023.7.22)\n",
      "Requirement already satisfied: markdown-it-py>=2.2.0 in c:\\users\\cheta\\anaconda3\\lib\\site-packages (from rich<14,>=10.14.0->streamlit) (2.2.0)\n",
      "Requirement already satisfied: pygments<3.0.0,>=2.13.0 in c:\\users\\cheta\\anaconda3\\lib\\site-packages (from rich<14,>=10.14.0->streamlit) (2.15.1)\n",
      "Collecting smmap<6,>=3.0.1 (from gitdb<5,>=4.0.1->gitpython!=3.1.19,<4,>=3.0.7->streamlit)\n",
      "  Obtaining dependency information for smmap<6,>=3.0.1 from https://files.pythonhosted.org/packages/04/be/d09147ad1ec7934636ad912901c5fd7667e1c858e19d355237db0d0cd5e4/smmap-5.0.2-py3-none-any.whl.metadata\n",
      "  Downloading smmap-5.0.2-py3-none-any.whl.metadata (4.3 kB)\n",
      "Requirement already satisfied: MarkupSafe>=2.0 in c:\\users\\cheta\\anaconda3\\lib\\site-packages (from jinja2->altair<6,>=4.0->streamlit) (2.1.1)\n",
      "Requirement already satisfied: attrs>=17.4.0 in c:\\users\\cheta\\anaconda3\\lib\\site-packages (from jsonschema>=3.0->altair<6,>=4.0->streamlit) (22.1.0)\n",
      "Requirement already satisfied: pyrsistent!=0.17.0,!=0.17.1,!=0.17.2,>=0.14.0 in c:\\users\\cheta\\anaconda3\\lib\\site-packages (from jsonschema>=3.0->altair<6,>=4.0->streamlit) (0.18.0)\n",
      "Requirement already satisfied: mdurl~=0.1 in c:\\users\\cheta\\anaconda3\\lib\\site-packages (from markdown-it-py>=2.2.0->rich<14,>=10.14.0->streamlit) (0.1.0)\n",
      "Requirement already satisfied: six>=1.5 in c:\\users\\cheta\\anaconda3\\lib\\site-packages (from python-dateutil>=2.8.2->pandas<3,>=1.4.0->streamlit) (1.16.0)\n",
      "Downloading streamlit-1.42.2-py2.py3-none-any.whl (9.6 MB)\n",
      "   ---------------------------------------- 0.0/9.6 MB ? eta -:--:--\n",
      "   - -------------------------------------- 0.3/9.6 MB 7.1 MB/s eta 0:00:02\n",
      "   -- ------------------------------------- 0.7/9.6 MB 7.4 MB/s eta 0:00:02\n",
      "   ---- ----------------------------------- 1.0/9.6 MB 7.1 MB/s eta 0:00:02\n",
      "   ----- ---------------------------------- 1.3/9.6 MB 7.0 MB/s eta 0:00:02\n",
      "   ------ --------------------------------- 1.6/9.6 MB 7.0 MB/s eta 0:00:02\n",
      "   -------- ------------------------------- 1.9/9.6 MB 7.2 MB/s eta 0:00:02\n",
      "   --------- ------------------------------ 2.4/9.6 MB 7.5 MB/s eta 0:00:01\n",
      "   ------------ --------------------------- 2.9/9.6 MB 7.7 MB/s eta 0:00:01\n",
      "   ------------- -------------------------- 3.3/9.6 MB 7.7 MB/s eta 0:00:01\n",
      "   --------------- ------------------------ 3.7/9.6 MB 8.1 MB/s eta 0:00:01\n",
      "   ---------------- ----------------------- 4.0/9.6 MB 7.9 MB/s eta 0:00:01\n",
      "   ----------------- ---------------------- 4.3/9.6 MB 7.8 MB/s eta 0:00:01\n",
      "   ------------------- -------------------- 4.8/9.6 MB 8.0 MB/s eta 0:00:01\n",
      "   ---------------------- ----------------- 5.3/9.6 MB 8.3 MB/s eta 0:00:01\n",
      "   ----------------------- ---------------- 5.7/9.6 MB 8.3 MB/s eta 0:00:01\n",
      "   -------------------------- ------------- 6.3/9.6 MB 8.6 MB/s eta 0:00:01\n",
      "   ---------------------------- ----------- 6.7/9.6 MB 8.6 MB/s eta 0:00:01\n",
      "   ------------------------------ --------- 7.3/9.6 MB 8.8 MB/s eta 0:00:01\n",
      "   -------------------------------- ------- 7.8/9.6 MB 8.9 MB/s eta 0:00:01\n",
      "   ---------------------------------- ----- 8.2/9.6 MB 8.9 MB/s eta 0:00:01\n",
      "   ------------------------------------ --- 8.7/9.6 MB 8.9 MB/s eta 0:00:01\n",
      "   -------------------------------------- - 9.1/9.6 MB 9.0 MB/s eta 0:00:01\n",
      "   ---------------------------------------  9.6/9.6 MB 9.1 MB/s eta 0:00:01\n",
      "   ---------------------------------------  9.6/9.6 MB 9.1 MB/s eta 0:00:01\n",
      "   ---------------------------------------  9.6/9.6 MB 9.1 MB/s eta 0:00:01\n",
      "   ---------------------------------------  9.6/9.6 MB 9.1 MB/s eta 0:00:01\n",
      "   ---------------------------------------  9.6/9.6 MB 9.1 MB/s eta 0:00:01\n",
      "   ---------------------------------------- 9.6/9.6 MB 7.6 MB/s eta 0:00:00\n",
      "Downloading altair-5.5.0-py3-none-any.whl (731 kB)\n",
      "   ---------------------------------------- 0.0/731.2 kB ? eta -:--:--\n",
      "   ------------------------- -------------- 471.0/731.2 kB 9.8 MB/s eta 0:00:01\n",
      "   ---------------------------------------- 731.2/731.2 kB 9.2 MB/s eta 0:00:00\n",
      "Downloading blinker-1.9.0-py3-none-any.whl (8.5 kB)\n",
      "Downloading cachetools-5.5.2-py3-none-any.whl (10 kB)\n",
      "Downloading GitPython-3.1.44-py3-none-any.whl (207 kB)\n",
      "   ---------------------------------------- 0.0/207.6 kB ? eta -:--:--\n",
      "   ---------------------------------------- 207.6/207.6 kB 6.4 MB/s eta 0:00:00\n",
      "Downloading protobuf-5.29.3-cp310-abi3-win_amd64.whl (434 kB)\n",
      "   ---------------------------------------- 0.0/434.5 kB ? eta -:--:--\n",
      "   ---------------------------------------  430.1/434.5 kB 8.9 MB/s eta 0:00:01\n",
      "   ---------------------------------------- 434.5/434.5 kB 6.7 MB/s eta 0:00:00\n",
      "Downloading pydeck-0.9.1-py2.py3-none-any.whl (6.9 MB)\n",
      "   ---------------------------------------- 0.0/6.9 MB ? eta -:--:--\n",
      "   -- ------------------------------------- 0.5/6.9 MB 10.5 MB/s eta 0:00:01\n",
      "   ----- ---------------------------------- 1.0/6.9 MB 12.6 MB/s eta 0:00:01\n",
      "   -------- ------------------------------- 1.5/6.9 MB 10.4 MB/s eta 0:00:01\n",
      "   ----------- ---------------------------- 1.9/6.9 MB 11.3 MB/s eta 0:00:01\n",
      "   -------------- ------------------------- 2.4/6.9 MB 10.3 MB/s eta 0:00:01\n",
      "   ---------------- ----------------------- 2.9/6.9 MB 10.9 MB/s eta 0:00:01\n",
      "   ------------------- -------------------- 3.4/6.9 MB 10.9 MB/s eta 0:00:01\n",
      "   ---------------------- ----------------- 3.9/6.9 MB 10.9 MB/s eta 0:00:01\n",
      "   ------------------------- -------------- 4.4/6.9 MB 10.8 MB/s eta 0:00:01\n",
      "   --------------------------- ------------ 4.8/6.9 MB 10.6 MB/s eta 0:00:01\n",
      "   ----------------------------- ---------- 5.1/6.9 MB 10.1 MB/s eta 0:00:01\n",
      "   ------------------------------- -------- 5.5/6.9 MB 10.1 MB/s eta 0:00:01\n",
      "   ---------------------------------- ----- 6.0/6.9 MB 10.1 MB/s eta 0:00:01\n",
      "   ------------------------------------- -- 6.5/6.9 MB 10.1 MB/s eta 0:00:01\n",
      "   ---------------------------------------  6.9/6.9 MB 10.0 MB/s eta 0:00:01\n",
      "   ---------------------------------------  6.9/6.9 MB 10.0 MB/s eta 0:00:01\n",
      "   ---------------------------------------- 6.9/6.9 MB 8.8 MB/s eta 0:00:00\n",
      "Downloading rich-13.9.4-py3-none-any.whl (242 kB)\n",
      "   ---------------------------------------- 0.0/242.4 kB ? eta -:--:--\n",
      "   --------------------------------------- 242.4/242.4 kB 14.5 MB/s eta 0:00:00\n",
      "Downloading typing_extensions-4.12.2-py3-none-any.whl (37 kB)\n",
      "Downloading gitdb-4.0.12-py3-none-any.whl (62 kB)\n",
      "   ---------------------------------------- 0.0/62.8 kB ? eta -:--:--\n",
      "   ---------------------------------------- 62.8/62.8 kB 3.3 MB/s eta 0:00:00\n",
      "Downloading narwhals-1.28.0-py3-none-any.whl (308 kB)\n",
      "   ---------------------------------------- 0.0/308.9 kB ? eta -:--:--\n",
      "   ---------------------------------------- 308.9/308.9 kB 9.6 MB/s eta 0:00:00\n",
      "Downloading smmap-5.0.2-py3-none-any.whl (24 kB)\n",
      "Installing collected packages: typing-extensions, smmap, protobuf, narwhals, cachetools, blinker, rich, pydeck, gitdb, altair, gitpython, streamlit\n",
      "  Attempting uninstall: typing-extensions\n",
      "    Found existing installation: typing_extensions 4.7.1\n",
      "    Uninstalling typing_extensions-4.7.1:\n",
      "      Successfully uninstalled typing_extensions-4.7.1\n",
      "Successfully installed altair-5.5.0 blinker-1.9.0 cachetools-5.5.2 gitdb-4.0.12 gitpython-3.1.44 narwhals-1.28.0 protobuf-5.29.3 pydeck-0.9.1 rich-13.9.4 smmap-5.0.2 streamlit-1.42.2 typing-extensions-4.12.2\n",
      "Note: you may need to restart the kernel to use updated packages.\n"
     ]
    }
   ],
   "source": [
    "pip install nltk scikit-learn streamlit"
   ]
  },
  {
   "cell_type": "code",
   "execution_count": 2,
   "metadata": {},
   "outputs": [],
   "source": [
    "# Importing necessary libraries\n",
    "import nltk\n",
    "import random\n",
    "import os\n",
    "import ssl\n",
    "from sklearn.feature_extraction.text import TfidfVectorizer\n",
    "from sklearn.linear_model import LogisticRegression"
   ]
  },
  {
   "cell_type": "code",
   "execution_count": 3,
   "metadata": {},
   "outputs": [
    {
     "name": "stderr",
     "output_type": "stream",
     "text": [
      "[nltk_data] Downloading package punkt to\n",
      "[nltk_data]     C:\\Users\\cheta\\AppData\\Roaming\\nltk_data...\n",
      "[nltk_data]   Package punkt is already up-to-date!\n"
     ]
    },
    {
     "data": {
      "text/plain": [
       "True"
      ]
     },
     "execution_count": 3,
     "metadata": {},
     "output_type": "execute_result"
    }
   ],
   "source": [
    "ssl._create_default_https_context = ssl._create_unverified_context\n",
    "nltk.data.path.append(os.path.abspath('nltk_data'))\n",
    "nltk.download('punkt')"
   ]
  },
  {
   "cell_type": "code",
   "execution_count": 4,
   "metadata": {},
   "outputs": [],
   "source": [
    "intents = [\n",
    "    {\n",
    "        \"tag\": \"greeting\",\n",
    "        \"patterns\": [\"Hi\", \"Hello\", \"Hey\", \"What’s up\", \"How are you\"],\n",
    "        \"responses\": [\"Hi there!\", \"Hello! How can I assist you today?\", \"Hey! Welcome to Stufin.\", \"What’s up? Need help with something?\", \"I’m doing great, thanks! How about you?\"]\n",
    "    },\n",
    "    {\n",
    "        \"tag\": \"goodbye\",\n",
    "        \"patterns\": [\"Bye\", \"See you later\", \"Goodbye\", \"Take care\"],\n",
    "        \"responses\": [\"Goodbye! Happy shopping!\", \"See you later!\", \"Take care, and come back soon!\"]\n",
    "    },\n",
    "    {\n",
    "        \"tag\": \"thanks\",\n",
    "        \"patterns\": [\"Thank you\", \"Thanks\", \"Thanks a lot\", \"I appreciate it\"],\n",
    "        \"responses\": [\"You’re welcome!\", \"No problem, glad to help!\", \"Happy to assist you!\"]\n",
    "    },\n",
    "    {\n",
    "        \"tag\": \"about\",\n",
    "        \"patterns\": [\"What can you do\", \"Who are you\", \"What are you\", \"What is Stufin\"],\n",
    "        \"responses\": [\"I’m Stufin’s chatbot, here to help you shop for IoT devices, troubleshoot issues, and more!\", \"Stufin is your go-to IoT e-commerce platform, and I’m here to assist with your queries!\", \"I can help you browse products, check orders, and set up your IoT devices.\"]\n",
    "    },\n",
    "    {\n",
    "        \"tag\": \"help\",\n",
    "        \"patterns\": [\"Help\", \"I need help\", \"Can you help me\", \"What should I do\"],\n",
    "        \"responses\": [\"Of course! What do you need help with?\", \"I’m here for you—what’s the issue?\", \"How can I assist you today?\"]\n",
    "    },\n",
    "    {\n",
    "        \"tag\": \"browse_products\",\n",
    "        \"patterns\": [\"Show me products\", \"What do you sell\", \"Browse IoT devices\", \"What’s available\"],\n",
    "        \"responses\": [\"We’ve got a range of IoT devices—smart lights, cameras, thermostats, and more! What are you looking for?\", \"You can browse our IoT collection! Want to see smart home gadgets or something specific?\", \"Check out our IoT products—what category interests you?\"]\n",
    "    },\n",
    "    {\n",
    "        \"tag\": \"search_product\",\n",
    "        \"patterns\": [\"Do you have a smart thermostat\", \"Find me a Wi-Fi camera\", \"Looking for a smart lock\", \"Search for IoT lights\"],\n",
    "        \"responses\": [\"Let me check that for you! One moment.\", \"I’ll find that smart device—give me a sec!\", \"Searching for your IoT item now!\"]\n",
    "    },\n",
    "    {\n",
    "        \"tag\": \"product_details\",\n",
    "        \"patterns\": [\"Tell me about the smart speaker\", \"What does this device do\", \"Features of the IoT camera\", \"How does this work\"],\n",
    "        \"responses\": [\"I’ll give you the rundown on that device!\", \"Here’s what that IoT gadget can do for you.\", \"Let me share the features—stay tuned!\"]\n",
    "    },\n",
    "    {\n",
    "        \"tag\": \"check_price\",\n",
    "        \"patterns\": [\"How much is the smart light\", \"What’s the price\", \"Is this expensive\", \"Any discounts\"],\n",
    "        \"responses\": [\"I’ll get you the latest price on that!\", \"Here’s the cost—any budget in mind?\", \"Let me check for discounts too!\"]\n",
    "    },\n",
    "    {\n",
    "        \"tag\": \"add_to_cart\",\n",
    "        \"patterns\": [\"Add this to my cart\", \"Put the smart plug in my cart\", \"I want to buy this\", \"Add it\"],\n",
    "        \"responses\": [\"Added to your cart!\", \"It’s in your cart now—anything else?\", \"Done! What’s next on your list?\"]\n",
    "    },\n",
    "    {\n",
    "        \"tag\": \"track_order\",\n",
    "        \"patterns\": [\"Where’s my order\", \"Track my package\", \"When will it arrive\", \"Order status\"],\n",
    "        \"responses\": [\"Let me check your order status!\", \"I’ll track that for you—order number handy?\", \"Your IoT device is on its way—let me update you!\"]\n",
    "    },\n",
    "    {\n",
    "        \"tag\": \"device_setup\",\n",
    "        \"patterns\": [\"How do I set up my device\", \"Install my smart lock\", \"Setup instructions\", \"Help me connect it\"],\n",
    "        \"responses\": [\"I’ll guide you through the setup!\", \"Setting up your IoT device? Here’s how.\", \"Let’s get that connected—step by step!\"]\n",
    "    },\n",
    "    {\n",
    "        \"tag\": \"troubleshooting\",\n",
    "        \"patterns\": [\"My device isn’t working\", \"Smart light won’t connect\", \"Why is it offline\", \"Fix my IoT camera\"],\n",
    "        \"responses\": [\"Let’s troubleshoot that together—what’s happening?\", \"I’ll help you fix it—describe the issue.\", \"No worries, we’ll get it back online!\"]\n",
    "    },\n",
    "    {\n",
    "        \"tag\": \"compatibility\",\n",
    "        \"patterns\": [\"Does it work with Alexa\", \"Is this compatible with my hub\", \"Will it sync with Google Home\", \"Device compatibility\"],\n",
    "        \"responses\": [\"I’ll check compatibility for you!\", \"Let me confirm if it works with your setup.\", \"Good question—let’s see if it syncs!\"]\n",
    "    },\n",
    "    {\n",
    "        \"tag\": \"shipping_info\",\n",
    "        \"patterns\": [\"How long does shipping take\", \"What’s the shipping cost\", \"Do you ship to my location\", \"Delivery time\"],\n",
    "        \"responses\": [\"Shipping details coming right up!\", \"I’ll get you the latest on shipping costs and times.\", \"Let me check delivery options for you!\"]\n",
    "    },\n",
    "    {\n",
    "        \"tag\": \"returns\",\n",
    "        \"patterns\": [\"How do I return this\", \"Can I get a refund\", \"Return policy\", \"Send it back\"],\n",
    "        \"responses\": [\"Here’s how returns work at Stufin!\", \"I’ll explain the refund process—ready?\", \"Let’s get that return started for you!\"]\n",
    "    },\n",
    "    {\n",
    "        \"tag\": \"contact_support\",\n",
    "        \"patterns\": [\"Talk to someone\", \"Customer service\", \"I need a human\", \"Support contact\"],\n",
    "        \"responses\": [\"I’ll connect you to our support team!\", \"Need a human touch? Here’s how to reach us.\", \"Let me get you to customer service!\"]\n",
    "    },\n",
    "    {\n",
    "        \"tag\": \"recommendations\",\n",
    "        \"patterns\": [\"What should I buy\", \"Recommend an IoT device\", \"Best smart home gadget\", \"Suggest something\"],\n",
    "        \"responses\": [\"I’ve got some great IoT picks for you!\", \"How about a smart device for your home? Any preferences?\", \"Let me suggest something tailored for you!\"]\n",
    "    }\n",
    "]"
   ]
  },
  {
   "cell_type": "code",
   "execution_count": 9,
   "metadata": {},
   "outputs": [],
   "source": [
    "vectorizer = TfidfVectorizer()\n",
    "clf = LogisticRegression(random_state=0, max_iter=10000)\n",
    "\n",
    "#Preprocess the data\n",
    "tags = []\n",
    "patterns = []\n",
    "for intent in intents:\n",
    "    for pattern in intent['patterns']:\n",
    "        tags.append(intent['tag'])\n",
    "        patterns.append(pattern)"
   ]
  },
  {
   "cell_type": "code",
   "execution_count": 12,
   "metadata": {},
   "outputs": [
    {
     "data": {
      "text/html": [
       "<style>#sk-container-id-1 {color: black;}#sk-container-id-1 pre{padding: 0;}#sk-container-id-1 div.sk-toggleable {background-color: white;}#sk-container-id-1 label.sk-toggleable__label {cursor: pointer;display: block;width: 100%;margin-bottom: 0;padding: 0.3em;box-sizing: border-box;text-align: center;}#sk-container-id-1 label.sk-toggleable__label-arrow:before {content: \"▸\";float: left;margin-right: 0.25em;color: #696969;}#sk-container-id-1 label.sk-toggleable__label-arrow:hover:before {color: black;}#sk-container-id-1 div.sk-estimator:hover label.sk-toggleable__label-arrow:before {color: black;}#sk-container-id-1 div.sk-toggleable__content {max-height: 0;max-width: 0;overflow: hidden;text-align: left;background-color: #f0f8ff;}#sk-container-id-1 div.sk-toggleable__content pre {margin: 0.2em;color: black;border-radius: 0.25em;background-color: #f0f8ff;}#sk-container-id-1 input.sk-toggleable__control:checked~div.sk-toggleable__content {max-height: 200px;max-width: 100%;overflow: auto;}#sk-container-id-1 input.sk-toggleable__control:checked~label.sk-toggleable__label-arrow:before {content: \"▾\";}#sk-container-id-1 div.sk-estimator input.sk-toggleable__control:checked~label.sk-toggleable__label {background-color: #d4ebff;}#sk-container-id-1 div.sk-label input.sk-toggleable__control:checked~label.sk-toggleable__label {background-color: #d4ebff;}#sk-container-id-1 input.sk-hidden--visually {border: 0;clip: rect(1px 1px 1px 1px);clip: rect(1px, 1px, 1px, 1px);height: 1px;margin: -1px;overflow: hidden;padding: 0;position: absolute;width: 1px;}#sk-container-id-1 div.sk-estimator {font-family: monospace;background-color: #f0f8ff;border: 1px dotted black;border-radius: 0.25em;box-sizing: border-box;margin-bottom: 0.5em;}#sk-container-id-1 div.sk-estimator:hover {background-color: #d4ebff;}#sk-container-id-1 div.sk-parallel-item::after {content: \"\";width: 100%;border-bottom: 1px solid gray;flex-grow: 1;}#sk-container-id-1 div.sk-label:hover label.sk-toggleable__label {background-color: #d4ebff;}#sk-container-id-1 div.sk-serial::before {content: \"\";position: absolute;border-left: 1px solid gray;box-sizing: border-box;top: 0;bottom: 0;left: 50%;z-index: 0;}#sk-container-id-1 div.sk-serial {display: flex;flex-direction: column;align-items: center;background-color: white;padding-right: 0.2em;padding-left: 0.2em;position: relative;}#sk-container-id-1 div.sk-item {position: relative;z-index: 1;}#sk-container-id-1 div.sk-parallel {display: flex;align-items: stretch;justify-content: center;background-color: white;position: relative;}#sk-container-id-1 div.sk-item::before, #sk-container-id-1 div.sk-parallel-item::before {content: \"\";position: absolute;border-left: 1px solid gray;box-sizing: border-box;top: 0;bottom: 0;left: 50%;z-index: -1;}#sk-container-id-1 div.sk-parallel-item {display: flex;flex-direction: column;z-index: 1;position: relative;background-color: white;}#sk-container-id-1 div.sk-parallel-item:first-child::after {align-self: flex-end;width: 50%;}#sk-container-id-1 div.sk-parallel-item:last-child::after {align-self: flex-start;width: 50%;}#sk-container-id-1 div.sk-parallel-item:only-child::after {width: 0;}#sk-container-id-1 div.sk-dashed-wrapped {border: 1px dashed gray;margin: 0 0.4em 0.5em 0.4em;box-sizing: border-box;padding-bottom: 0.4em;background-color: white;}#sk-container-id-1 div.sk-label label {font-family: monospace;font-weight: bold;display: inline-block;line-height: 1.2em;}#sk-container-id-1 div.sk-label-container {text-align: center;}#sk-container-id-1 div.sk-container {/* jupyter's `normalize.less` sets `[hidden] { display: none; }` but bootstrap.min.css set `[hidden] { display: none !important; }` so we also need the `!important` here to be able to override the default hidden behavior on the sphinx rendered scikit-learn.org. See: https://github.com/scikit-learn/scikit-learn/issues/21755 */display: inline-block !important;position: relative;}#sk-container-id-1 div.sk-text-repr-fallback {display: none;}</style><div id=\"sk-container-id-1\" class=\"sk-top-container\"><div class=\"sk-text-repr-fallback\"><pre>LogisticRegression(max_iter=10000, random_state=0)</pre><b>In a Jupyter environment, please rerun this cell to show the HTML representation or trust the notebook. <br />On GitHub, the HTML representation is unable to render, please try loading this page with nbviewer.org.</b></div><div class=\"sk-container\" hidden><div class=\"sk-item\"><div class=\"sk-estimator sk-toggleable\"><input class=\"sk-toggleable__control sk-hidden--visually\" id=\"sk-estimator-id-1\" type=\"checkbox\" checked><label for=\"sk-estimator-id-1\" class=\"sk-toggleable__label sk-toggleable__label-arrow\">LogisticRegression</label><div class=\"sk-toggleable__content\"><pre>LogisticRegression(max_iter=10000, random_state=0)</pre></div></div></div></div></div>"
      ],
      "text/plain": [
       "LogisticRegression(max_iter=10000, random_state=0)"
      ]
     },
     "execution_count": 12,
     "metadata": {},
     "output_type": "execute_result"
    }
   ],
   "source": [
    "x = vectorizer.fit_transform(patterns)\n",
    "y = tags\n",
    "clf.fit(x, y)"
   ]
  },
  {
   "cell_type": "code",
   "execution_count": 13,
   "metadata": {},
   "outputs": [],
   "source": [
    "def chatbot(input_text):\n",
    "    input_text = vectorizer.transform([input_text])\n",
    "    tag = clf.predict(input_text)[0]\n",
    "    for intent in intents:\n",
    "        if intent['tag'] == tag:\n",
    "            response = random.choice(intent['responses'])\n",
    "            return response"
   ]
  },
  {
   "cell_type": "code",
   "execution_count": 15,
   "metadata": {},
   "outputs": [
    {
     "name": "stdout",
     "output_type": "stream",
     "text": [
      "Stufin is your go-to IoT e-commerce platform, and I’m here to assist with your queries!\n"
     ]
    }
   ],
   "source": [
    "user_input = \"What are you?\"\n",
    "response = chatbot(user_input)\n",
    "print(response)"
   ]
  },
  {
   "cell_type": "code",
   "execution_count": 16,
   "metadata": {},
   "outputs": [
    {
     "name": "stdout",
     "output_type": "stream",
     "text": [
      "Check out our IoT products—what category interests you?\n"
     ]
    }
   ],
   "source": [
    "user_input = \"Show me products\"\n",
    "response = chatbot(user_input)\n",
    "print(response)"
   ]
  },
  {
   "cell_type": "code",
   "execution_count": 17,
   "metadata": {},
   "outputs": [
    {
     "name": "stdout",
     "output_type": "stream",
     "text": [
      "I’m Stufin’s chatbot, here to help you shop for IoT devices, troubleshoot issues, and more!\n"
     ]
    }
   ],
   "source": [
    "user_input = \"What is Stufin\"\n",
    "response = chatbot(user_input)\n",
    "print(response)"
   ]
  },
  {
   "cell_type": "code",
   "execution_count": null,
   "metadata": {},
   "outputs": [],
   "source": []
  }
 ],
 "metadata": {
  "kernelspec": {
   "display_name": "base",
   "language": "python",
   "name": "python3"
  },
  "language_info": {
   "codemirror_mode": {
    "name": "ipython",
    "version": 3
   },
   "file_extension": ".py",
   "mimetype": "text/x-python",
   "name": "python",
   "nbconvert_exporter": "python",
   "pygments_lexer": "ipython3",
   "version": "3.11.5"
  }
 },
 "nbformat": 4,
 "nbformat_minor": 2
}
